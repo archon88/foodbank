{
 "cells": [
  {
   "cell_type": "code",
   "execution_count": 15,
   "metadata": {},
   "outputs": [],
   "source": [
    "import glob, os, sys\n",
    "\n",
    "from PIL import Image, ImageDraw, ImageFont, ImageFile\n",
    "from IPython.display import display\n",
    "import numpy as np\n",
    "import pandas as pd\n",
    "\n",
    "ImageFile.LOAD_TRUNCATED_IMAGES = True\n",
    "\n",
    "pd.set_option('display.max_colwidth', None)\n",
    "pd.set_option('display.max_columns', None)\n",
    "pd.set_option('display.max_rows', None)"
   ]
  },
  {
   "cell_type": "code",
   "execution_count": 2,
   "metadata": {},
   "outputs": [],
   "source": [
    "class RecipientData():\n",
    "    '''\n",
    "    Class to contain the data for a single addressee.\n",
    "    '''\n",
    "    def __init__(self, row):\n",
    "        self.name = row['name']\n",
    "        self.phone = row['phone number']\n",
    "        self.address = row['address']\n",
    "        self.postcode = row['postcode']\n",
    "        self.age = row['age']\n",
    "        self.adults = row['number of adults']\n",
    "        self.elderly = row['how many of these adults are over 70']\n",
    "        self.children = row['number of children']\n",
    "        self.teens = row['how many of these children are over 12']\n",
    "        self.vegetarian = row['vegetarian, halal or kosher']\n",
    "        self.allergy = row['specify allergy if they have one']\n",
    "        self.cooker = row['do they have a cooker']\n",
    "        self.hob = row['do they have a hob']\n",
    "        self.kettle = row['do they have a kettle']\n",
    "        self.microwave = row['do they have a microwave']\n",
    "        self.notes = row['notes']\n",
    "        \n",
    "    def __str__(self):\n",
    "        label = f\"{self.name}\\n{self.address}\\n{self.postcode}\"\n",
    "        label += f\"\\nPhone: {self.phone}\" # are we always showing the number now?\n",
    "        label += f\"\\nAge: {self.age}\"\n",
    "        label += f\"\\nAdults: {self.adults} (Elderly: {self.elderly})\"\n",
    "        label += f\"\\nChildren: {self.children} (Teens: {self.teens})\"\n",
    "        label += f\"\\nNo cooker\" if not self.cooker else ''\n",
    "        label += f\"\\nNo hob\" if not self.hob else ''\n",
    "        label += f\"\\nNo kettle\" if not self.kettle else ''\n",
    "        label += f\"\\nNo microwave\" if not self.microwave else ''\n",
    "        label += f\"\\nNotes:\" if (self.notes and str(self.notes).casefold() != 'nan') else ''\n",
    "        return label"
   ]
  },
  {
   "cell_type": "code",
   "execution_count": 3,
   "metadata": {},
   "outputs": [],
   "source": [
    "class DataSet():\n",
    "    '''\n",
    "    A simple wrapper around a dataframe to contain custom information.\n",
    "    '''\n",
    "    def __init__(self, datafile, dropna=True):\n",
    "        self.df = pd.read_excel(datafile)\n",
    "        self.df = self.drop_empty_rows(self.df) if dropna else self.df\n",
    "        self.df = self.fix_colnames(self.df)\n",
    "        self.labels = [RecipientData(row) for (index, row) in self.df.iterrows()]\n",
    "    \n",
    "    @staticmethod\n",
    "    def fix_colnames(df):\n",
    "        '''\n",
    "        Standardise column names and typing.\n",
    "        '''\n",
    "        cols = {colname: colname.casefold().replace('?', '').replace('  ', ' ') for colname in df.columns}\n",
    "        df = df.rename(columns=cols)\n",
    "        # This is not the most elegant solution but workable for now\n",
    "        df['phone number'] = df['phone number'].astype(str).apply(lambda x: x.replace(' ', '')).apply(lambda x: f'0{x.replace(\".0\", \"\")}' if not x.startswith('0') else x.replace(\".0\", \"\"))\n",
    "        for col in ['age', 'number of adults', 'how many of these adults are over 70', 'number of children', 'how many of these children are over 12']:\n",
    "            df[col] = df[col].astype(pd.Int64Dtype())\n",
    "        for col in ['vegetarian, halal or kosher', 'do they have a cooker', 'do they have a hob', 'do they have a kettle', 'do they have a microwave']:  # boolean conversion\n",
    "                df[col] = df[col].apply(lambda x: True if x.casefold() == 'yes' else False)\n",
    "        return df\n",
    "    \n",
    "    @staticmethod\n",
    "    def drop_empty_rows(df):\n",
    "        return df.dropna(subset=['Name'])"
   ]
  },
  {
   "cell_type": "code",
   "execution_count": 8,
   "metadata": {},
   "outputs": [],
   "source": [
    "def write_label(labeldir, text, index, vegetarian, allergy):\n",
    "    \"\"\"\n",
    "    Create a single \"A7\" PNG from a row of spreadsheet data.\n",
    "    \"\"\"\n",
    "    (W, H) = 297, 210  # A-series paper aspect ratio\n",
    "    img = Image.new('RGB', (W, H), color = 'white')\n",
    "    d = ImageDraw.Draw(img)\n",
    "    w, h = d.textsize(text)\n",
    "    font1 = ImageFont.truetype(\"/usr/share/fonts/truetype/artemisia/GFSArtemisia.otf\", size=14)\n",
    "    font2 = ImageFont.truetype(\"/usr/share/fonts/truetype/artemisia/GFSArtemisia.otf\", size=26)\n",
    "    d.text(((W-w) // 10, (H-h) // 2), text=text, font=font1, fill='black')  # left-align\n",
    "    if vegetarian:\n",
    "        bottom = H - 25\n",
    "        d.text((10, bottom), text='V', font=font2, fill='green')\n",
    "    if allergy is not None and str(allergy) != 'nan':\n",
    "        bottom = H - 25\n",
    "        d.text(((W-w) // 2, bottom), text=allergy.upper(), font=font2, fill='red')\n",
    "    img.save(f'{labeldir}/test_label_{index}.png')"
   ]
  },
  {
   "cell_type": "code",
   "execution_count": 5,
   "metadata": {},
   "outputs": [],
   "source": [
    "def concatenate_image_page(savedir, labs, fname):\n",
    "    \"\"\"\n",
    "    Combine labels into 2x4 grids which will be \"A4\" pages.\n",
    "    \"\"\"\n",
    "    new_im = Image.new('RGB', (2*297, 4*210))  # the canvas\n",
    "    blank_label = Image.new('RGB', (297, 210), color = 'white')  # to cover empty spaces\n",
    "    ctr = 0\n",
    "    for i in range(0, 2*297, 297):\n",
    "        for j in range(0, 4*210, 210):\n",
    "            try:\n",
    "                new_im.paste(labs[ctr], (i,j))\n",
    "                ctr += 1\n",
    "            except IndexError: # if number of images is not 8\n",
    "                new_im.paste(blank_label, (i,j))\n",
    "                ctr += 1\n",
    "    return new_im"
   ]
  },
  {
   "cell_type": "code",
   "execution_count": 6,
   "metadata": {},
   "outputs": [],
   "source": [
    "def make_all_pages(labdir, savedir):\n",
    "    \"\"\"\n",
    "    Top-level function, to run over all labels and generate a single PDF of printable A4 sheets.\n",
    "    \"\"\"\n",
    "    assert labdir != savedir, f'Warning, cannot write to directory containing label files!'\n",
    "    all_labs = [Image.open(f'{labdir}/{l}') for l in os.listdir(labdir) if \".png\" in l and \"label\" in l]\n",
    "    chunked = [all_labs[i:i + 8] for i in range(0, len(all_labs), 8)]\n",
    "    pagectr = 1\n",
    "    pages = []\n",
    "    for chunk in chunked:\n",
    "        p = concatenate_image_page(savedir, chunk, f'concatenated_labels_page_{pagectr}')\n",
    "        pages.append(p)\n",
    "        pagectr += 1\n",
    "    pages[0].save(f\"{savedir}/out.pdf\", save_all=True, append_images=pages[1:])"
   ]
  },
  {
   "cell_type": "code",
   "execution_count": 11,
   "metadata": {},
   "outputs": [
    {
     "name": "stdout",
     "output_type": "stream",
     "text": [
      "Enter top-level directory:\n",
      "/home/gavin/Downloads/northfield_foodbank/2020-05\n"
     ]
    }
   ],
   "source": [
    "if __name__ == '__main__':\n",
    "    BASEDIR = input('Enter top-level directory:\\n')\n",
    "    spreadsheets = glob.glob(f'{BASEDIR}/*xlsx')\n",
    "    assert len(spreadsheets) == 1, 'Error, number of spreadsheets in directory is not one!'\n",
    "    d = DataSet(f'{BASEDIR}/Label Spreadsheet 8-5-20.xlsx')\n",
    "    os.makedirs(f'{BASEDIR}/labels/a4labs', exist_ok=True)\n",
    "    os.makedirs(f'{BASEDIR}/labels/output', exist_ok=True)\n",
    "    for i, lab in enumerate(d.labels):\n",
    "        write_label(f'{BASEDIR}/labels/a4labs/', str(lab), i, vegetarian=lab.vegetarian, allergy=lab.allergy)\n",
    "    make_all_pages(f'{BASEDIR}/labels/a4labs/', f'{BASEDIR}/labels/output')"
   ]
  },
  {
   "cell_type": "code",
   "execution_count": null,
   "metadata": {},
   "outputs": [],
   "source": []
  }
 ],
 "metadata": {
  "kernelspec": {
   "display_name": "Python 3",
   "language": "python",
   "name": "python3"
  },
  "language_info": {
   "codemirror_mode": {
    "name": "ipython",
    "version": 3
   },
   "file_extension": ".py",
   "mimetype": "text/x-python",
   "name": "python",
   "nbconvert_exporter": "python",
   "pygments_lexer": "ipython3",
   "version": "3.8.0"
  }
 },
 "nbformat": 4,
 "nbformat_minor": 4
}
